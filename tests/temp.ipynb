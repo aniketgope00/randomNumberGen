{
 "cells": [
  {
   "cell_type": "code",
   "execution_count": 39,
   "metadata": {},
   "outputs": [],
   "source": [
    "#chi2 = sum((observedFreq - expectedFreq)**2 / expectedFreq)\n",
    "import pandas as pd\n",
    "class chi2:\n",
    "    \n",
    "    observedFreq = {}\n",
    "    expectedFreq = {}\n",
    "    \n",
    "    def __init__(self, observedFreqIP) -> None:\n",
    "        self.observedFreq = observedFreqIP\n",
    "        \n",
    "        expected_freq_sum = 0\n",
    "        for freq in self.observedFreq.keys():\n",
    "            expected_freq_sum += freq\n",
    "        print(\"Expected Freq Sum:\", expected_freq_sum)\n",
    "        \n",
    "        n = len(list(self.observedFreq.keys()))\n",
    "        print(\"N:\", n)\n",
    "        expected_freq = expected_freq_sum/n\n",
    "        print(\"Expected Freq:\", expected_freq)\n",
    "\n",
    "        for key in self.observedFreq.keys():\n",
    "            self.expectedFreq[key] = expected_freq\n",
    "        \n",
    "    def degreeOfFreedom(self)->int:\n",
    "        c = len(list(self.observedFreq.keys()))\n",
    "        return c - 1\n",
    "    \n",
    "    def getTableValue(self, freedom, alpha)->float:\n",
    "        table = pd.read_excel(\"chi2tablevalues.xlsx\")\n",
    "        chi2value = table._get_value(freedom - 1, alpha)\n",
    "        return chi2value\n",
    "    \n",
    "\n",
    "    def getScore(self)->float:\n",
    "        score = 0\n",
    "        for fo, fe in zip(self.observedFreq.values(), self.expectedFreq.values()):\n",
    "            score += ((fo - fe)**2)/fe\n",
    "        print(\"score:\", score)\n",
    "        return score\n",
    "\n",
    "    def print(self) -> None:\n",
    "        r\"\"\"\n",
    "        this function is for testing purposes only.\n",
    "        \"\"\"\n",
    "        print(self.observedFreq)\n",
    "        print(self.expectedFreq)"
   ]
  },
  {
   "cell_type": "code",
   "execution_count": 40,
   "metadata": {},
   "outputs": [
    {
     "name": "stdout",
     "output_type": "stream",
     "text": [
      "Expected Freq Sum: 6\n",
      "N: 3\n",
      "Expected Freq: 2.0\n",
      "{1: 1, 2: 2, 3: 3}\n",
      "{1: 2.0, 2: 2.0, 3: 2.0}\n",
      "score: 1.0\n",
      "1.0\n",
      "5.991\n"
     ]
    }
   ],
   "source": [
    "\n",
    "temp = {1:1, 2:2, 3:3}\n",
    "chi = chi2(temp)\n",
    "chi.print()\n",
    "print(chi.getScore())\n",
    "print(chi.getTableValue(2, 0.05))"
   ]
  },
  {
   "cell_type": "code",
   "execution_count": 38,
   "metadata": {},
   "outputs": [],
   "source": [
    "from chi2table import getChi2TableValue"
   ]
  },
  {
   "cell_type": "code",
   "execution_count": null,
   "metadata": {},
   "outputs": [],
   "source": []
  }
 ],
 "metadata": {
  "kernelspec": {
   "display_name": "base",
   "language": "python",
   "name": "python3"
  },
  "language_info": {
   "codemirror_mode": {
    "name": "ipython",
    "version": 3
   },
   "file_extension": ".py",
   "mimetype": "text/x-python",
   "name": "python",
   "nbconvert_exporter": "python",
   "pygments_lexer": "ipython3",
   "version": "3.11.7"
  }
 },
 "nbformat": 4,
 "nbformat_minor": 2
}
